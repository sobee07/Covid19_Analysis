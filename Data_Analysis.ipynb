{
 "cells": [
  {
   "cell_type": "code",
   "execution_count": null,
   "metadata": {
    "colab": {},
    "colab_type": "code",
    "id": "Gd0ugQ7XpHBX"
   },
   "outputs": [],
   "source": [
    "#Sheet for data analysis on data extracted from 2018 till 2020 June 30\n",
    "import pandas as pd"
   ]
  },
  {
   "cell_type": "code",
   "execution_count": null,
   "metadata": {
    "colab": {
     "base_uri": "https://localhost:8080/",
     "height": 124
    },
    "colab_type": "code",
    "id": "Nn4kMGmlJxz0",
    "outputId": "e4fc6397-9915-45f9-c11d-77f11f060dfe"
   },
   "outputs": [
    {
     "name": "stdout",
     "output_type": "stream",
     "text": [
      "Go to this URL in a browser: https://accounts.google.com/o/oauth2/auth?client_id=947318989803-6bn6qk8qdgf4n4g3pfee6491hc0brc4i.apps.googleusercontent.com&redirect_uri=urn%3aietf%3awg%3aoauth%3a2.0%3aoob&scope=email%20https%3a%2f%2fwww.googleapis.com%2fauth%2fdocs.test%20https%3a%2f%2fwww.googleapis.com%2fauth%2fdrive%20https%3a%2f%2fwww.googleapis.com%2fauth%2fdrive.photos.readonly%20https%3a%2f%2fwww.googleapis.com%2fauth%2fpeopleapi.readonly&response_type=code\n",
      "\n",
      "Enter your authorization code:\n",
      "··········\n",
      "Mounted at /content/drive\n"
     ]
    }
   ],
   "source": [
    "from google.colab import drive\n",
    "drive.mount('/content/drive')"
   ]
  },
  {
   "cell_type": "code",
   "execution_count": null,
   "metadata": {
    "colab": {
     "base_uri": "https://localhost:8080/",
     "height": 415
    },
    "colab_type": "code",
    "id": "t52A3rIZMOmU",
    "outputId": "323e0138-009b-4b45-a185-5a2453284a8b"
   },
   "outputs": [
    {
     "data": {
      "text/html": [
       "<div>\n",
       "<style scoped>\n",
       "    .dataframe tbody tr th:only-of-type {\n",
       "        vertical-align: middle;\n",
       "    }\n",
       "\n",
       "    .dataframe tbody tr th {\n",
       "        vertical-align: top;\n",
       "    }\n",
       "\n",
       "    .dataframe thead th {\n",
       "        text-align: right;\n",
       "    }\n",
       "</style>\n",
       "<table border=\"1\" class=\"dataframe\">\n",
       "  <thead>\n",
       "    <tr style=\"text-align: right;\">\n",
       "      <th></th>\n",
       "      <th>type</th>\n",
       "      <th>geometry.type</th>\n",
       "      <th>geometry.coordinates</th>\n",
       "      <th>properties.timestamp</th>\n",
       "      <th>properties.taxi_count</th>\n",
       "      <th>properties.api_info.status</th>\n",
       "    </tr>\n",
       "  </thead>\n",
       "  <tbody>\n",
       "    <tr>\n",
       "      <th>0</th>\n",
       "      <td>Feature</td>\n",
       "      <td>MultiPoint</td>\n",
       "      <td>[[103.6313, 1.301011], [103.63304, 1.32483], [...</td>\n",
       "      <td>2017-12-31T23:59:44+08:00</td>\n",
       "      <td>3305</td>\n",
       "      <td>healthy</td>\n",
       "    </tr>\n",
       "    <tr>\n",
       "      <th>1</th>\n",
       "      <td>Feature</td>\n",
       "      <td>MultiPoint</td>\n",
       "      <td>[[103.62454, 1.28777], [103.6274, 1.28541], [1...</td>\n",
       "      <td>2018-01-01T00:59:47+08:00</td>\n",
       "      <td>2387</td>\n",
       "      <td>healthy</td>\n",
       "    </tr>\n",
       "    <tr>\n",
       "      <th>2</th>\n",
       "      <td>Feature</td>\n",
       "      <td>MultiPoint</td>\n",
       "      <td>[[103.62993, 1.30274], [103.63256, 1.32408], [...</td>\n",
       "      <td>2018-01-01T01:59:50+08:00</td>\n",
       "      <td>2913</td>\n",
       "      <td>healthy</td>\n",
       "    </tr>\n",
       "    <tr>\n",
       "      <th>3</th>\n",
       "      <td>Feature</td>\n",
       "      <td>MultiPoint</td>\n",
       "      <td>[[103.62075, 1.27163], [103.62953, 1.30139], [...</td>\n",
       "      <td>2018-01-01T02:59:53+08:00</td>\n",
       "      <td>2909</td>\n",
       "      <td>healthy</td>\n",
       "    </tr>\n",
       "    <tr>\n",
       "      <th>4</th>\n",
       "      <td>Feature</td>\n",
       "      <td>MultiPoint</td>\n",
       "      <td>[[103.6148, 1.26167], [103.62303, 1.28373], [1...</td>\n",
       "      <td>2018-01-01T03:59:56+08:00</td>\n",
       "      <td>3045</td>\n",
       "      <td>healthy</td>\n",
       "    </tr>\n",
       "    <tr>\n",
       "      <th>...</th>\n",
       "      <td>...</td>\n",
       "      <td>...</td>\n",
       "      <td>...</td>\n",
       "      <td>...</td>\n",
       "      <td>...</td>\n",
       "      <td>...</td>\n",
       "    </tr>\n",
       "    <tr>\n",
       "      <th>8643</th>\n",
       "      <td>Feature</td>\n",
       "      <td>MultiPoint</td>\n",
       "      <td>[[103.62834, 1.29423], [103.63027, 1.30813], [...</td>\n",
       "      <td>2018-12-31T19:59:33+08:00</td>\n",
       "      <td>4826</td>\n",
       "      <td>healthy</td>\n",
       "    </tr>\n",
       "    <tr>\n",
       "      <th>8644</th>\n",
       "      <td>Feature</td>\n",
       "      <td>MultiPoint</td>\n",
       "      <td>[[103.62152, 1.27762], [103.62244, 1.28214], [...</td>\n",
       "      <td>2018-12-31T20:59:36+08:00</td>\n",
       "      <td>5273</td>\n",
       "      <td>healthy</td>\n",
       "    </tr>\n",
       "    <tr>\n",
       "      <th>8645</th>\n",
       "      <td>Feature</td>\n",
       "      <td>MultiPoint</td>\n",
       "      <td>[[103.62531, 1.28928], [103.6259, 1.29145], [1...</td>\n",
       "      <td>2018-12-31T21:59:39+08:00</td>\n",
       "      <td>5157</td>\n",
       "      <td>healthy</td>\n",
       "    </tr>\n",
       "    <tr>\n",
       "      <th>8646</th>\n",
       "      <td>Feature</td>\n",
       "      <td>MultiPoint</td>\n",
       "      <td>[[103.63233, 1.29712], [103.63631, 1.2839], [1...</td>\n",
       "      <td>2018-12-31T22:59:11+08:00</td>\n",
       "      <td>4980</td>\n",
       "      <td>healthy</td>\n",
       "    </tr>\n",
       "    <tr>\n",
       "      <th>8647</th>\n",
       "      <td>Feature</td>\n",
       "      <td>MultiPoint</td>\n",
       "      <td>[[103.6267, 1.307992], [103.63226, 1.30884], [...</td>\n",
       "      <td>2018-12-31T23:59:44+08:00</td>\n",
       "      <td>5887</td>\n",
       "      <td>healthy</td>\n",
       "    </tr>\n",
       "  </tbody>\n",
       "</table>\n",
       "<p>8648 rows × 6 columns</p>\n",
       "</div>"
      ],
      "text/plain": [
       "         type geometry.type  ... properties.taxi_count properties.api_info.status\n",
       "0     Feature    MultiPoint  ...                  3305                    healthy\n",
       "1     Feature    MultiPoint  ...                  2387                    healthy\n",
       "2     Feature    MultiPoint  ...                  2913                    healthy\n",
       "3     Feature    MultiPoint  ...                  2909                    healthy\n",
       "4     Feature    MultiPoint  ...                  3045                    healthy\n",
       "...       ...           ...  ...                   ...                        ...\n",
       "8643  Feature    MultiPoint  ...                  4826                    healthy\n",
       "8644  Feature    MultiPoint  ...                  5273                    healthy\n",
       "8645  Feature    MultiPoint  ...                  5157                    healthy\n",
       "8646  Feature    MultiPoint  ...                  4980                    healthy\n",
       "8647  Feature    MultiPoint  ...                  5887                    healthy\n",
       "\n",
       "[8648 rows x 6 columns]"
      ]
     },
     "execution_count": 3,
     "metadata": {
      "tags": []
     },
     "output_type": "execute_result"
    }
   ],
   "source": [
    "df_2018 = pd.read_excel(\"/content/drive/My Drive/Project Taxi Analysis (COVID)/Taxi_COunt_2018.xlsx\")\n",
    "df_2018"
   ]
  },
  {
   "cell_type": "code",
   "execution_count": null,
   "metadata": {
    "colab": {
     "base_uri": "https://localhost:8080/",
     "height": 415
    },
    "colab_type": "code",
    "id": "Oq4sMKYfMvSR",
    "outputId": "b8691dbc-8b97-4c01-e8e9-7e7eff851438"
   },
   "outputs": [
    {
     "data": {
      "text/html": [
       "<div>\n",
       "<style scoped>\n",
       "    .dataframe tbody tr th:only-of-type {\n",
       "        vertical-align: middle;\n",
       "    }\n",
       "\n",
       "    .dataframe tbody tr th {\n",
       "        vertical-align: top;\n",
       "    }\n",
       "\n",
       "    .dataframe thead th {\n",
       "        text-align: right;\n",
       "    }\n",
       "</style>\n",
       "<table border=\"1\" class=\"dataframe\">\n",
       "  <thead>\n",
       "    <tr style=\"text-align: right;\">\n",
       "      <th></th>\n",
       "      <th>type</th>\n",
       "      <th>geometry.type</th>\n",
       "      <th>geometry.coordinates</th>\n",
       "      <th>properties.timestamp</th>\n",
       "      <th>properties.taxi_count</th>\n",
       "      <th>properties.api_info.status</th>\n",
       "    </tr>\n",
       "  </thead>\n",
       "  <tbody>\n",
       "    <tr>\n",
       "      <th>0</th>\n",
       "      <td>Feature</td>\n",
       "      <td>MultiPoint</td>\n",
       "      <td>[[103.6267, 1.307992], [103.63226, 1.30884], [...</td>\n",
       "      <td>2018-12-31T23:59:44+08:00</td>\n",
       "      <td>5887</td>\n",
       "      <td>healthy</td>\n",
       "    </tr>\n",
       "    <tr>\n",
       "      <th>1</th>\n",
       "      <td>Feature</td>\n",
       "      <td>MultiPoint</td>\n",
       "      <td>[[103.62939, 1.32079], [103.6376, 1.30027], [1...</td>\n",
       "      <td>2019-01-01T00:59:47+08:00</td>\n",
       "      <td>3197</td>\n",
       "      <td>healthy</td>\n",
       "    </tr>\n",
       "    <tr>\n",
       "      <th>2</th>\n",
       "      <td>Feature</td>\n",
       "      <td>MultiPoint</td>\n",
       "      <td>[[103.6168, 1.27282], [103.63562, 1.32745], [1...</td>\n",
       "      <td>2019-01-01T01:59:50+08:00</td>\n",
       "      <td>3822</td>\n",
       "      <td>healthy</td>\n",
       "    </tr>\n",
       "    <tr>\n",
       "      <th>3</th>\n",
       "      <td>Feature</td>\n",
       "      <td>MultiPoint</td>\n",
       "      <td>[[103.62167, 1.2948], [103.62203, 1.29633], [1...</td>\n",
       "      <td>2019-01-01T02:59:52+08:00</td>\n",
       "      <td>4195</td>\n",
       "      <td>healthy</td>\n",
       "    </tr>\n",
       "    <tr>\n",
       "      <th>4</th>\n",
       "      <td>Feature</td>\n",
       "      <td>MultiPoint</td>\n",
       "      <td>[[103.62458, 1.2876], [103.626, 1.280204], [10...</td>\n",
       "      <td>2019-01-01T03:59:55+08:00</td>\n",
       "      <td>4002</td>\n",
       "      <td>healthy</td>\n",
       "    </tr>\n",
       "    <tr>\n",
       "      <th>...</th>\n",
       "      <td>...</td>\n",
       "      <td>...</td>\n",
       "      <td>...</td>\n",
       "      <td>...</td>\n",
       "      <td>...</td>\n",
       "      <td>...</td>\n",
       "    </tr>\n",
       "    <tr>\n",
       "      <th>7771</th>\n",
       "      <td>Feature</td>\n",
       "      <td>MultiPoint</td>\n",
       "      <td>[]</td>\n",
       "      <td>2019-11-15T22:01:28+08:00</td>\n",
       "      <td>0</td>\n",
       "      <td>healthy</td>\n",
       "    </tr>\n",
       "    <tr>\n",
       "      <th>7772</th>\n",
       "      <td>Feature</td>\n",
       "      <td>MultiPoint</td>\n",
       "      <td>[]</td>\n",
       "      <td>2019-11-15T22:01:28+08:00</td>\n",
       "      <td>0</td>\n",
       "      <td>healthy</td>\n",
       "    </tr>\n",
       "    <tr>\n",
       "      <th>7773</th>\n",
       "      <td>Feature</td>\n",
       "      <td>MultiPoint</td>\n",
       "      <td>[]</td>\n",
       "      <td>2019-11-15T22:01:28+08:00</td>\n",
       "      <td>0</td>\n",
       "      <td>healthy</td>\n",
       "    </tr>\n",
       "    <tr>\n",
       "      <th>7774</th>\n",
       "      <td>Feature</td>\n",
       "      <td>MultiPoint</td>\n",
       "      <td>[]</td>\n",
       "      <td>2019-11-15T22:01:28+08:00</td>\n",
       "      <td>0</td>\n",
       "      <td>healthy</td>\n",
       "    </tr>\n",
       "    <tr>\n",
       "      <th>7775</th>\n",
       "      <td>Feature</td>\n",
       "      <td>MultiPoint</td>\n",
       "      <td>[]</td>\n",
       "      <td>2019-11-15T22:01:28+08:00</td>\n",
       "      <td>0</td>\n",
       "      <td>healthy</td>\n",
       "    </tr>\n",
       "  </tbody>\n",
       "</table>\n",
       "<p>7776 rows × 6 columns</p>\n",
       "</div>"
      ],
      "text/plain": [
       "         type geometry.type  ... properties.taxi_count properties.api_info.status\n",
       "0     Feature    MultiPoint  ...                  5887                    healthy\n",
       "1     Feature    MultiPoint  ...                  3197                    healthy\n",
       "2     Feature    MultiPoint  ...                  3822                    healthy\n",
       "3     Feature    MultiPoint  ...                  4195                    healthy\n",
       "4     Feature    MultiPoint  ...                  4002                    healthy\n",
       "...       ...           ...  ...                   ...                        ...\n",
       "7771  Feature    MultiPoint  ...                     0                    healthy\n",
       "7772  Feature    MultiPoint  ...                     0                    healthy\n",
       "7773  Feature    MultiPoint  ...                     0                    healthy\n",
       "7774  Feature    MultiPoint  ...                     0                    healthy\n",
       "7775  Feature    MultiPoint  ...                     0                    healthy\n",
       "\n",
       "[7776 rows x 6 columns]"
      ]
     },
     "execution_count": 4,
     "metadata": {
      "tags": []
     },
     "output_type": "execute_result"
    }
   ],
   "source": [
    "df_2019 = pd.read_excel(\"/content/drive/My Drive/Project Taxi Analysis (COVID)/Taxi_COunt_2019.xlsx\")\n",
    "df_2019"
   ]
  },
  {
   "cell_type": "code",
   "execution_count": null,
   "metadata": {
    "colab": {
     "base_uri": "https://localhost:8080/",
     "height": 415
    },
    "colab_type": "code",
    "id": "QmgUxXDdM2Ms",
    "outputId": "37598651-d89c-4adc-87aa-4341699c4f04"
   },
   "outputs": [
    {
     "data": {
      "text/html": [
       "<div>\n",
       "<style scoped>\n",
       "    .dataframe tbody tr th:only-of-type {\n",
       "        vertical-align: middle;\n",
       "    }\n",
       "\n",
       "    .dataframe tbody tr th {\n",
       "        vertical-align: top;\n",
       "    }\n",
       "\n",
       "    .dataframe thead th {\n",
       "        text-align: right;\n",
       "    }\n",
       "</style>\n",
       "<table border=\"1\" class=\"dataframe\">\n",
       "  <thead>\n",
       "    <tr style=\"text-align: right;\">\n",
       "      <th></th>\n",
       "      <th>type</th>\n",
       "      <th>geometry.type</th>\n",
       "      <th>geometry.coordinates</th>\n",
       "      <th>properties.timestamp</th>\n",
       "      <th>properties.taxi_count</th>\n",
       "      <th>properties.api_info.status</th>\n",
       "    </tr>\n",
       "  </thead>\n",
       "  <tbody>\n",
       "    <tr>\n",
       "      <th>0</th>\n",
       "      <td>Feature</td>\n",
       "      <td>MultiPoint</td>\n",
       "      <td>[[103.62431, 1.30243], [103.6409, 1.31675], [1...</td>\n",
       "      <td>2019-12-31T23:59:15+08:00</td>\n",
       "      <td>5093</td>\n",
       "      <td>healthy</td>\n",
       "    </tr>\n",
       "    <tr>\n",
       "      <th>1</th>\n",
       "      <td>Feature</td>\n",
       "      <td>MultiPoint</td>\n",
       "      <td>[[103.62769, 1.31303], [103.63637, 1.3384], [1...</td>\n",
       "      <td>2020-01-01T00:59:47+08:00</td>\n",
       "      <td>2224</td>\n",
       "      <td>healthy</td>\n",
       "    </tr>\n",
       "    <tr>\n",
       "      <th>2</th>\n",
       "      <td>Feature</td>\n",
       "      <td>MultiPoint</td>\n",
       "      <td>[[103.61428, 1.25617], [103.62692, 1.30262], [...</td>\n",
       "      <td>2020-01-01T01:59:50+08:00</td>\n",
       "      <td>2753</td>\n",
       "      <td>healthy</td>\n",
       "    </tr>\n",
       "    <tr>\n",
       "      <th>3</th>\n",
       "      <td>Feature</td>\n",
       "      <td>MultiPoint</td>\n",
       "      <td>[[103.61428, 1.26121], [103.62143, 1.27665], [...</td>\n",
       "      <td>2020-01-01T02:59:53+08:00</td>\n",
       "      <td>3153</td>\n",
       "      <td>healthy</td>\n",
       "    </tr>\n",
       "    <tr>\n",
       "      <th>4</th>\n",
       "      <td>Feature</td>\n",
       "      <td>MultiPoint</td>\n",
       "      <td>[[103.626, 1.280549], [103.62603, 1.28019], [1...</td>\n",
       "      <td>2020-01-01T03:59:56+08:00</td>\n",
       "      <td>3078</td>\n",
       "      <td>healthy</td>\n",
       "    </tr>\n",
       "    <tr>\n",
       "      <th>...</th>\n",
       "      <td>...</td>\n",
       "      <td>...</td>\n",
       "      <td>...</td>\n",
       "      <td>...</td>\n",
       "      <td>...</td>\n",
       "      <td>...</td>\n",
       "    </tr>\n",
       "    <tr>\n",
       "      <th>4340</th>\n",
       "      <td>Feature</td>\n",
       "      <td>MultiPoint</td>\n",
       "      <td>[[103.61726, 1.2701], [103.62321, 1.28443], [1...</td>\n",
       "      <td>2020-06-29T19:59:02+08:00</td>\n",
       "      <td>4790</td>\n",
       "      <td>healthy</td>\n",
       "    </tr>\n",
       "    <tr>\n",
       "      <th>4341</th>\n",
       "      <td>Feature</td>\n",
       "      <td>MultiPoint</td>\n",
       "      <td>[[103.6234, 1.27492], [103.62651, 1.29514], [1...</td>\n",
       "      <td>2020-06-29T20:59:35+08:00</td>\n",
       "      <td>4716</td>\n",
       "      <td>healthy</td>\n",
       "    </tr>\n",
       "    <tr>\n",
       "      <th>4342</th>\n",
       "      <td>Feature</td>\n",
       "      <td>MultiPoint</td>\n",
       "      <td>[[103.62358, 1.28648], [103.62599, 1.28966], [...</td>\n",
       "      <td>2020-06-29T21:59:38+08:00</td>\n",
       "      <td>4301</td>\n",
       "      <td>healthy</td>\n",
       "    </tr>\n",
       "    <tr>\n",
       "      <th>4343</th>\n",
       "      <td>Feature</td>\n",
       "      <td>MultiPoint</td>\n",
       "      <td>[[103.62935, 1.3019], [103.63114, 1.30759], [1...</td>\n",
       "      <td>2020-06-29T22:59:41+08:00</td>\n",
       "      <td>3600</td>\n",
       "      <td>healthy</td>\n",
       "    </tr>\n",
       "    <tr>\n",
       "      <th>4344</th>\n",
       "      <td>Feature</td>\n",
       "      <td>MultiPoint</td>\n",
       "      <td>[[103.62782, 1.30503], [103.63145, 1.30773], [...</td>\n",
       "      <td>2020-06-29T23:59:14+08:00</td>\n",
       "      <td>3438</td>\n",
       "      <td>healthy</td>\n",
       "    </tr>\n",
       "  </tbody>\n",
       "</table>\n",
       "<p>4345 rows × 6 columns</p>\n",
       "</div>"
      ],
      "text/plain": [
       "         type geometry.type  ... properties.taxi_count properties.api_info.status\n",
       "0     Feature    MultiPoint  ...                  5093                    healthy\n",
       "1     Feature    MultiPoint  ...                  2224                    healthy\n",
       "2     Feature    MultiPoint  ...                  2753                    healthy\n",
       "3     Feature    MultiPoint  ...                  3153                    healthy\n",
       "4     Feature    MultiPoint  ...                  3078                    healthy\n",
       "...       ...           ...  ...                   ...                        ...\n",
       "4340  Feature    MultiPoint  ...                  4790                    healthy\n",
       "4341  Feature    MultiPoint  ...                  4716                    healthy\n",
       "4342  Feature    MultiPoint  ...                  4301                    healthy\n",
       "4343  Feature    MultiPoint  ...                  3600                    healthy\n",
       "4344  Feature    MultiPoint  ...                  3438                    healthy\n",
       "\n",
       "[4345 rows x 6 columns]"
      ]
     },
     "execution_count": 7,
     "metadata": {
      "tags": []
     },
     "output_type": "execute_result"
    }
   ],
   "source": [
    "df_2020 = pd.read_excel(\"/content/drive/My Drive/Project Taxi Analysis (COVID)/Taxi_COunt_2020_tillJune.xlsx\")\n",
    "df_2020"
   ]
  },
  {
   "cell_type": "code",
   "execution_count": null,
   "metadata": {
    "colab": {
     "base_uri": "https://localhost:8080/",
     "height": 17
    },
    "colab_type": "code",
    "id": "C7wej_JgNf7u",
    "outputId": "dca64a5a-7e96-4973-fc0b-3bbbef98bc78"
   },
   "outputs": [
    {
     "data": {
      "application/javascript": [
       "\n",
       "    async function download(id, filename, size) {\n",
       "      if (!google.colab.kernel.accessAllowed) {\n",
       "        return;\n",
       "      }\n",
       "      const div = document.createElement('div');\n",
       "      const label = document.createElement('label');\n",
       "      label.textContent = `Downloading \"${filename}\": `;\n",
       "      div.appendChild(label);\n",
       "      const progress = document.createElement('progress');\n",
       "      progress.max = size;\n",
       "      div.appendChild(progress);\n",
       "      document.body.appendChild(div);\n",
       "\n",
       "      const buffers = [];\n",
       "      let downloaded = 0;\n",
       "\n",
       "      const channel = await google.colab.kernel.comms.open(id);\n",
       "      // Send a message to notify the kernel that we're ready.\n",
       "      channel.send({})\n",
       "\n",
       "      for await (const message of channel.messages) {\n",
       "        // Send a message to notify the kernel that we're ready.\n",
       "        channel.send({})\n",
       "        if (message.buffers) {\n",
       "          for (const buffer of message.buffers) {\n",
       "            buffers.push(buffer);\n",
       "            downloaded += buffer.byteLength;\n",
       "            progress.value = downloaded;\n",
       "          }\n",
       "        }\n",
       "      }\n",
       "      const blob = new Blob(buffers, {type: 'application/binary'});\n",
       "      const a = document.createElement('a');\n",
       "      a.href = window.URL.createObjectURL(blob);\n",
       "      a.download = filename;\n",
       "      div.appendChild(a);\n",
       "      a.click();\n",
       "      div.remove();\n",
       "    }\n",
       "  "
      ],
      "text/plain": [
       "<IPython.core.display.Javascript object>"
      ]
     },
     "metadata": {
      "tags": []
     },
     "output_type": "display_data"
    },
    {
     "data": {
      "application/javascript": [
       "download(\"download_d04ab495-8130-4bf2-a621-6595ff696fe2\", \"Cleaned_Taxi_File.xlsx\", 383103)"
      ],
      "text/plain": [
       "<IPython.core.display.Javascript object>"
      ]
     },
     "metadata": {
      "tags": []
     },
     "output_type": "display_data"
    }
   ],
   "source": [
    "# Select specific columns and create a clean file \n",
    "df_merged=pd.DataFrame(columns=[ 'properties.timestamp','properties.taxi_count'])\n",
    "df_merged=df_merged.append(df_2018[[\"properties.timestamp\",\"properties.taxi_count\"]])\n",
    "df_merged=df_merged.append(df_2019[[\"properties.timestamp\",\"properties.taxi_count\"]])\n",
    "df_merged=df_merged.append(df_2020[[\"properties.timestamp\",\"properties.taxi_count\"]])\n",
    "#Outputting the df to excel for merged data\n",
    "df_merged.to_excel(r'Cleaned_Taxi_File.xlsx', index = False)\n",
    "from google.colab import files\n",
    "files.download('Cleaned_Taxi_File.xlsx')"
   ]
  },
  {
   "cell_type": "code",
   "execution_count": null,
   "metadata": {
    "colab": {
     "base_uri": "https://localhost:8080/",
     "height": 415
    },
    "colab_type": "code",
    "id": "fmMIz6yzYYTX",
    "outputId": "b856d179-c840-41b0-eecc-2116cc52bb4f"
   },
   "outputs": [
    {
     "data": {
      "text/html": [
       "<div>\n",
       "<style scoped>\n",
       "    .dataframe tbody tr th:only-of-type {\n",
       "        vertical-align: middle;\n",
       "    }\n",
       "\n",
       "    .dataframe tbody tr th {\n",
       "        vertical-align: top;\n",
       "    }\n",
       "\n",
       "    .dataframe thead th {\n",
       "        text-align: right;\n",
       "    }\n",
       "</style>\n",
       "<table border=\"1\" class=\"dataframe\">\n",
       "  <thead>\n",
       "    <tr style=\"text-align: right;\">\n",
       "      <th></th>\n",
       "      <th>properties.timestamp</th>\n",
       "      <th>properties.taxi_count</th>\n",
       "    </tr>\n",
       "  </thead>\n",
       "  <tbody>\n",
       "    <tr>\n",
       "      <th>0</th>\n",
       "      <td>2017-12-31T23:59:44+08:00</td>\n",
       "      <td>3305</td>\n",
       "    </tr>\n",
       "    <tr>\n",
       "      <th>1</th>\n",
       "      <td>2018-01-01T00:59:47+08:00</td>\n",
       "      <td>2387</td>\n",
       "    </tr>\n",
       "    <tr>\n",
       "      <th>2</th>\n",
       "      <td>2018-01-01T01:59:50+08:00</td>\n",
       "      <td>2913</td>\n",
       "    </tr>\n",
       "    <tr>\n",
       "      <th>3</th>\n",
       "      <td>2018-01-01T02:59:53+08:00</td>\n",
       "      <td>2909</td>\n",
       "    </tr>\n",
       "    <tr>\n",
       "      <th>4</th>\n",
       "      <td>2018-01-01T03:59:56+08:00</td>\n",
       "      <td>3045</td>\n",
       "    </tr>\n",
       "    <tr>\n",
       "      <th>...</th>\n",
       "      <td>...</td>\n",
       "      <td>...</td>\n",
       "    </tr>\n",
       "    <tr>\n",
       "      <th>20382</th>\n",
       "      <td>2020-06-29T19:59:02+08:00</td>\n",
       "      <td>4790</td>\n",
       "    </tr>\n",
       "    <tr>\n",
       "      <th>20383</th>\n",
       "      <td>2020-06-29T20:59:35+08:00</td>\n",
       "      <td>4716</td>\n",
       "    </tr>\n",
       "    <tr>\n",
       "      <th>20384</th>\n",
       "      <td>2020-06-29T21:59:38+08:00</td>\n",
       "      <td>4301</td>\n",
       "    </tr>\n",
       "    <tr>\n",
       "      <th>20385</th>\n",
       "      <td>2020-06-29T22:59:41+08:00</td>\n",
       "      <td>3600</td>\n",
       "    </tr>\n",
       "    <tr>\n",
       "      <th>20386</th>\n",
       "      <td>2020-06-29T23:59:14+08:00</td>\n",
       "      <td>3438</td>\n",
       "    </tr>\n",
       "  </tbody>\n",
       "</table>\n",
       "<p>20387 rows × 2 columns</p>\n",
       "</div>"
      ],
      "text/plain": [
       "            properties.timestamp  properties.taxi_count\n",
       "0      2017-12-31T23:59:44+08:00                   3305\n",
       "1      2018-01-01T00:59:47+08:00                   2387\n",
       "2      2018-01-01T01:59:50+08:00                   2913\n",
       "3      2018-01-01T02:59:53+08:00                   2909\n",
       "4      2018-01-01T03:59:56+08:00                   3045\n",
       "...                          ...                    ...\n",
       "20382  2020-06-29T19:59:02+08:00                   4790\n",
       "20383  2020-06-29T20:59:35+08:00                   4716\n",
       "20384  2020-06-29T21:59:38+08:00                   4301\n",
       "20385  2020-06-29T22:59:41+08:00                   3600\n",
       "20386  2020-06-29T23:59:14+08:00                   3438\n",
       "\n",
       "[20387 rows x 2 columns]"
      ]
     },
     "execution_count": 43,
     "metadata": {
      "tags": []
     },
     "output_type": "execute_result"
    }
   ],
   "source": [
    "#read the cleaned file\n",
    "df = pd.read_excel(\"/content/drive/My Drive/Project Taxi Analysis (COVID)/Cleaned_Taxi_File.xlsx\")\n",
    "df"
   ]
  },
  {
   "cell_type": "code",
   "execution_count": null,
   "metadata": {
    "colab": {
     "base_uri": "https://localhost:8080/",
     "height": 69
    },
    "colab_type": "code",
    "id": "uY_D3bXearf_",
    "outputId": "24387720-17ae-4202-d97f-1dbc7638f649"
   },
   "outputs": [
    {
     "data": {
      "text/plain": [
       "properties.timestamp     object\n",
       "properties.taxi_count     int64\n",
       "dtype: object"
      ]
     },
     "execution_count": 44,
     "metadata": {
      "tags": []
     },
     "output_type": "execute_result"
    }
   ],
   "source": [
    "df.dtypes"
   ]
  },
  {
   "cell_type": "code",
   "execution_count": null,
   "metadata": {
    "colab": {},
    "colab_type": "code",
    "id": "iyMooio1KgRO"
   },
   "outputs": [],
   "source": [
    "#convert timestamp as datetime field\n",
    "df['properties.timestamp']= pd.to_datetime(df['properties.timestamp']) "
   ]
  },
  {
   "cell_type": "code",
   "execution_count": null,
   "metadata": {
    "colab": {
     "base_uri": "https://localhost:8080/",
     "height": 69
    },
    "colab_type": "code",
    "id": "tjBKPI8nLXqr",
    "outputId": "9a48ea8b-edaf-4b9b-ee35-ada44dde8e89"
   },
   "outputs": [
    {
     "data": {
      "text/plain": [
       "properties.timestamp     datetime64[ns, pytz.FixedOffset(480)]\n",
       "properties.taxi_count                                    int64\n",
       "dtype: object"
      ]
     },
     "execution_count": 46,
     "metadata": {
      "tags": []
     },
     "output_type": "execute_result"
    }
   ],
   "source": [
    "df.dtypes"
   ]
  },
  {
   "cell_type": "code",
   "execution_count": null,
   "metadata": {
    "colab": {},
    "colab_type": "code",
    "id": "-YNYNwmAL9CZ"
   },
   "outputs": [],
   "source": [
    "#add 1 minute\n",
    "df['properties.timestamp'] =df['properties.timestamp'] + pd.to_timedelta(1, unit='m')"
   ]
  },
  {
   "cell_type": "code",
   "execution_count": null,
   "metadata": {
    "colab": {
     "base_uri": "https://localhost:8080/",
     "height": 260
    },
    "colab_type": "code",
    "id": "pYyv5QDNMlJR",
    "outputId": "4b6c056d-bba6-4611-c465-4127f7f8e5d4"
   },
   "outputs": [
    {
     "name": "stdout",
     "output_type": "stream",
     "text": [
      "           properties.timestamp  properties.taxi_count\n",
      "0     2018-01-01 00:00:44+08:00                   3305\n",
      "1     2018-01-01 01:00:47+08:00                   2387\n",
      "2     2018-01-01 02:00:50+08:00                   2913\n",
      "3     2018-01-01 03:00:53+08:00                   2909\n",
      "4     2018-01-01 04:00:56+08:00                   3045\n",
      "...                         ...                    ...\n",
      "20382 2020-06-29 20:00:02+08:00                   4790\n",
      "20383 2020-06-29 21:00:35+08:00                   4716\n",
      "20384 2020-06-29 22:00:38+08:00                   4301\n",
      "20385 2020-06-29 23:00:41+08:00                   3600\n",
      "20386 2020-06-30 00:00:14+08:00                   3438\n",
      "\n",
      "[20387 rows x 2 columns]\n"
     ]
    }
   ],
   "source": [
    "print(df)"
   ]
  },
  {
   "cell_type": "code",
   "execution_count": null,
   "metadata": {
    "colab": {},
    "colab_type": "code",
    "id": "t4NHQRNmNiws"
   },
   "outputs": [],
   "source": [
    "# add new feature day of_week\n",
    "df['day_of_week']=df['properties.timestamp'].dt.dayofweek"
   ]
  },
  {
   "cell_type": "code",
   "execution_count": null,
   "metadata": {
    "colab": {},
    "colab_type": "code",
    "id": "-8Al6ZFqOCxk"
   },
   "outputs": [],
   "source": [
    "# add new feature month\n",
    "df['month']=df['properties.timestamp'].dt.month"
   ]
  },
  {
   "cell_type": "code",
   "execution_count": null,
   "metadata": {
    "colab": {},
    "colab_type": "code",
    "id": "zzBM8cbzOGy_"
   },
   "outputs": [],
   "source": [
    "# add new feature year\n",
    "df['year']=df['properties.timestamp'].dt.year"
   ]
  },
  {
   "cell_type": "code",
   "execution_count": null,
   "metadata": {
    "colab": {},
    "colab_type": "code",
    "id": "Tz8R4XDKOKG3"
   },
   "outputs": [],
   "source": [
    "# add new feature day of month\n",
    "df['day_of_month'] =df['properties.timestamp'].dt.day"
   ]
  },
  {
   "cell_type": "code",
   "execution_count": null,
   "metadata": {
    "colab": {},
    "colab_type": "code",
    "id": "Gw1Hzo3oPfIT"
   },
   "outputs": [],
   "source": [
    "# add new feature weekday/weekend\n",
    "df.loc[df['day_of_week'] >=5, 'weekday_weekend'] = 'weekend' \n",
    "df.loc[df['day_of_week'] < 5, 'weekday_weekend'] = 'weekday' "
   ]
  },
  {
   "cell_type": "code",
   "execution_count": null,
   "metadata": {
    "colab": {
     "base_uri": "https://localhost:8080/",
     "height": 69
    },
    "colab_type": "code",
    "id": "_a5pjbuqQdkg",
    "outputId": "b2f72c71-027f-4ae2-dd6d-30d7d676d768"
   },
   "outputs": [
    {
     "name": "stdout",
     "output_type": "stream",
     "text": [
      "Index(['properties.timestamp', 'properties.taxi_count', 'day_of_week', 'month',\n",
      "       'year', 'day_of_month', 'weekday_weekend'],\n",
      "      dtype='object')\n"
     ]
    }
   ],
   "source": [
    "print(df.columns)"
   ]
  },
  {
   "cell_type": "code",
   "execution_count": null,
   "metadata": {
    "colab": {},
    "colab_type": "code",
    "id": "RNEtBFnfR14e"
   },
   "outputs": [],
   "source": [
    "#set index\n",
    "df = df.set_index('properties.timestamp')"
   ]
  },
  {
   "cell_type": "code",
   "execution_count": null,
   "metadata": {
    "colab": {
     "base_uri": "https://localhost:8080/",
     "height": 446
    },
    "colab_type": "code",
    "id": "JMgYNsfCR6hx",
    "outputId": "ecbe6821-8e05-4ac2-8eee-c6f6485aa5f9"
   },
   "outputs": [
    {
     "data": {
      "text/html": [
       "<div>\n",
       "<style scoped>\n",
       "    .dataframe tbody tr th:only-of-type {\n",
       "        vertical-align: middle;\n",
       "    }\n",
       "\n",
       "    .dataframe tbody tr th {\n",
       "        vertical-align: top;\n",
       "    }\n",
       "\n",
       "    .dataframe thead th {\n",
       "        text-align: right;\n",
       "    }\n",
       "</style>\n",
       "<table border=\"1\" class=\"dataframe\">\n",
       "  <thead>\n",
       "    <tr style=\"text-align: right;\">\n",
       "      <th></th>\n",
       "      <th>properties.taxi_count</th>\n",
       "      <th>day_of_week</th>\n",
       "      <th>month</th>\n",
       "      <th>year</th>\n",
       "      <th>day_of_month</th>\n",
       "      <th>weekday_weekend</th>\n",
       "    </tr>\n",
       "    <tr>\n",
       "      <th>properties.timestamp</th>\n",
       "      <th></th>\n",
       "      <th></th>\n",
       "      <th></th>\n",
       "      <th></th>\n",
       "      <th></th>\n",
       "      <th></th>\n",
       "    </tr>\n",
       "  </thead>\n",
       "  <tbody>\n",
       "    <tr>\n",
       "      <th>2018-01-01 00:00:44+08:00</th>\n",
       "      <td>3305</td>\n",
       "      <td>0</td>\n",
       "      <td>1</td>\n",
       "      <td>2018</td>\n",
       "      <td>1</td>\n",
       "      <td>weekday</td>\n",
       "    </tr>\n",
       "    <tr>\n",
       "      <th>2018-01-01 01:00:47+08:00</th>\n",
       "      <td>2387</td>\n",
       "      <td>0</td>\n",
       "      <td>1</td>\n",
       "      <td>2018</td>\n",
       "      <td>1</td>\n",
       "      <td>weekday</td>\n",
       "    </tr>\n",
       "    <tr>\n",
       "      <th>2018-01-01 02:00:50+08:00</th>\n",
       "      <td>2913</td>\n",
       "      <td>0</td>\n",
       "      <td>1</td>\n",
       "      <td>2018</td>\n",
       "      <td>1</td>\n",
       "      <td>weekday</td>\n",
       "    </tr>\n",
       "    <tr>\n",
       "      <th>2018-01-01 03:00:53+08:00</th>\n",
       "      <td>2909</td>\n",
       "      <td>0</td>\n",
       "      <td>1</td>\n",
       "      <td>2018</td>\n",
       "      <td>1</td>\n",
       "      <td>weekday</td>\n",
       "    </tr>\n",
       "    <tr>\n",
       "      <th>2018-01-01 04:00:56+08:00</th>\n",
       "      <td>3045</td>\n",
       "      <td>0</td>\n",
       "      <td>1</td>\n",
       "      <td>2018</td>\n",
       "      <td>1</td>\n",
       "      <td>weekday</td>\n",
       "    </tr>\n",
       "    <tr>\n",
       "      <th>...</th>\n",
       "      <td>...</td>\n",
       "      <td>...</td>\n",
       "      <td>...</td>\n",
       "      <td>...</td>\n",
       "      <td>...</td>\n",
       "      <td>...</td>\n",
       "    </tr>\n",
       "    <tr>\n",
       "      <th>2020-06-29 20:00:02+08:00</th>\n",
       "      <td>4790</td>\n",
       "      <td>0</td>\n",
       "      <td>6</td>\n",
       "      <td>2020</td>\n",
       "      <td>29</td>\n",
       "      <td>weekday</td>\n",
       "    </tr>\n",
       "    <tr>\n",
       "      <th>2020-06-29 21:00:35+08:00</th>\n",
       "      <td>4716</td>\n",
       "      <td>0</td>\n",
       "      <td>6</td>\n",
       "      <td>2020</td>\n",
       "      <td>29</td>\n",
       "      <td>weekday</td>\n",
       "    </tr>\n",
       "    <tr>\n",
       "      <th>2020-06-29 22:00:38+08:00</th>\n",
       "      <td>4301</td>\n",
       "      <td>0</td>\n",
       "      <td>6</td>\n",
       "      <td>2020</td>\n",
       "      <td>29</td>\n",
       "      <td>weekday</td>\n",
       "    </tr>\n",
       "    <tr>\n",
       "      <th>2020-06-29 23:00:41+08:00</th>\n",
       "      <td>3600</td>\n",
       "      <td>0</td>\n",
       "      <td>6</td>\n",
       "      <td>2020</td>\n",
       "      <td>29</td>\n",
       "      <td>weekday</td>\n",
       "    </tr>\n",
       "    <tr>\n",
       "      <th>2020-06-30 00:00:14+08:00</th>\n",
       "      <td>3438</td>\n",
       "      <td>1</td>\n",
       "      <td>6</td>\n",
       "      <td>2020</td>\n",
       "      <td>30</td>\n",
       "      <td>weekday</td>\n",
       "    </tr>\n",
       "  </tbody>\n",
       "</table>\n",
       "<p>20387 rows × 6 columns</p>\n",
       "</div>"
      ],
      "text/plain": [
       "                           properties.taxi_count  ...  weekday_weekend\n",
       "properties.timestamp                              ...                 \n",
       "2018-01-01 00:00:44+08:00                   3305  ...          weekday\n",
       "2018-01-01 01:00:47+08:00                   2387  ...          weekday\n",
       "2018-01-01 02:00:50+08:00                   2913  ...          weekday\n",
       "2018-01-01 03:00:53+08:00                   2909  ...          weekday\n",
       "2018-01-01 04:00:56+08:00                   3045  ...          weekday\n",
       "...                                          ...  ...              ...\n",
       "2020-06-29 20:00:02+08:00                   4790  ...          weekday\n",
       "2020-06-29 21:00:35+08:00                   4716  ...          weekday\n",
       "2020-06-29 22:00:38+08:00                   4301  ...          weekday\n",
       "2020-06-29 23:00:41+08:00                   3600  ...          weekday\n",
       "2020-06-30 00:00:14+08:00                   3438  ...          weekday\n",
       "\n",
       "[20387 rows x 6 columns]"
      ]
     },
     "execution_count": 56,
     "metadata": {
      "tags": []
     },
     "output_type": "execute_result"
    }
   ],
   "source": [
    "df"
   ]
  },
  {
   "cell_type": "code",
   "execution_count": null,
   "metadata": {
    "colab": {
     "base_uri": "https://localhost:8080/",
     "height": 72
    },
    "colab_type": "code",
    "id": "ElT4GjgXSlJB",
    "outputId": "b77d1175-3b59-4907-800c-50d98431c7f1"
   },
   "outputs": [
    {
     "name": "stderr",
     "output_type": "stream",
     "text": [
      "/usr/local/lib/python3.6/dist-packages/statsmodels/tools/_testing.py:19: FutureWarning: pandas.util.testing is deprecated. Use the functions in the public API at pandas.testing instead.\n",
      "  import pandas.util.testing as tm\n"
     ]
    }
   ],
   "source": [
    "# import package for EDA\n",
    "import matplotlib.pyplot as plt\n",
    "import seaborn as sns"
   ]
  },
  {
   "cell_type": "code",
   "execution_count": null,
   "metadata": {
    "colab": {
     "base_uri": "https://localhost:8080/",
     "height": 367
    },
    "colab_type": "code",
    "id": "LuMQb1lYStYL",
    "outputId": "387fb8e0-e061-46a7-c79f-df4fa472295b"
   },
   "outputs": [
    {
     "data": {
      "text/plain": [
       "(array([736694.66666667, 736784.66666667, 736875.66666667, 736967.66666667,\n",
       "        737059.66666667, 737149.66666667, 737240.66666667, 737332.66666667,\n",
       "        737424.66666667, 737515.66666667, 737606.66666667]),\n",
       " <a list of 11 Text major ticklabel objects>)"
      ]
     },
     "execution_count": 58,
     "metadata": {
      "tags": []
     },
     "output_type": "execute_result"
    },
    {
     "data": {
      "image/png": "[encoded data removed]",
      "text/plain": [
       "<Figure size 432x288 with 1 Axes>"
      ]
     },
     "metadata": {
      "needs_background": "light",
      "tags": []
     },
     "output_type": "display_data"
    }
   ],
   "source": [
    "sns.lineplot(data = df['properties.taxi_count'])\n",
    "plt.xticks(rotation = 90)"
   ]
  },
  {
   "cell_type": "code",
   "execution_count": null,
   "metadata": {
    "colab": {
     "base_uri": "https://localhost:8080/",
     "height": 283
    },
    "colab_type": "code",
    "id": "BNz1zYV2CusJ",
    "outputId": "4500b11c-0b20-4e58-efa2-9634c25323eb"
   },
   "outputs": [
    {
     "data": {
      "text/plain": [
       "[<matplotlib.lines.Line2D at 0x7f24ccf36d68>]"
      ]
     },
     "execution_count": 59,
     "metadata": {
      "tags": []
     },
     "output_type": "execute_result"
    },
    {
     "data": {
      "image/png": "[encoded data removed]",
      "text/plain": [
       "<Figure size 432x288 with 1 Axes>"
      ]
     },
     "metadata": {
      "needs_background": "light",
      "tags": []
     },
     "output_type": "display_data"
    }
   ],
   "source": [
    "plt.plot(df['properties.taxi_count'])"
   ]
  },
  {
   "cell_type": "code",
   "execution_count": null,
   "metadata": {
    "colab": {
     "base_uri": "https://localhost:8080/",
     "height": 295
    },
    "colab_type": "code",
    "id": "KAd51GcGC1DF",
    "outputId": "b639a408-bb93-4eb2-e745-8e5a722a1508"
   },
   "outputs": [
    {
     "data": {
      "text/plain": [
       "<matplotlib.axes._subplots.AxesSubplot at 0x7f24cc9db4e0>"
      ]
     },
     "execution_count": 60,
     "metadata": {
      "tags": []
     },
     "output_type": "execute_result"
    },
    {
     "data": {
      "image/png": "[encoded data removed]",
      "text/plain": [
       "<Figure size 432x288 with 1 Axes>"
      ]
     },
     "metadata": {
      "needs_background": "light",
      "tags": []
     },
     "output_type": "display_data"
    }
   ],
   "source": [
    "df['properties.taxi_count'].plot()"
   ]
  },
  {
   "cell_type": "code",
   "execution_count": null,
   "metadata": {
    "colab": {
     "base_uri": "https://localhost:8080/",
     "height": 555
    },
    "colab_type": "code",
    "id": "Kv3l3Vnr6qQo",
    "outputId": "4cdae53e-f0e5-446d-9122-bfb7ccf5cc2b"
   },
   "outputs": [
    {
     "data": {
      "text/plain": [
       "<matplotlib.axes._subplots.AxesSubplot at 0x7f24cd1d7518>"
      ]
     },
     "execution_count": 61,
     "metadata": {
      "tags": []
     },
     "output_type": "execute_result"
    },
    {
     "data": {
      "image/png": "[encoded data removed]",
      "text/plain": [
       "<Figure size 1152x648 with 1 Axes>"
      ]
     },
     "metadata": {
      "needs_background": "light",
      "tags": []
     },
     "output_type": "display_data"
    }
   ],
   "source": [
    "plt.figure(figsize = (16, 9))\n",
    "sns.lineplot(data = df['properties.taxi_count'])"
   ]
  },
  {
   "cell_type": "code",
   "execution_count": null,
   "metadata": {
    "colab": {
     "base_uri": "https://localhost:8080/",
     "height": 446
    },
    "colab_type": "code",
    "id": "2amjkUAqlGf4",
    "outputId": "cf030427-12d5-4d40-9cac-5d33b936b0ea"
   },
   "outputs": [
    {
     "data": {
      "text/html": [
       "<div>\n",
       "<style scoped>\n",
       "    .dataframe tbody tr th:only-of-type {\n",
       "        vertical-align: middle;\n",
       "    }\n",
       "\n",
       "    .dataframe tbody tr th {\n",
       "        vertical-align: top;\n",
       "    }\n",
       "\n",
       "    .dataframe thead th {\n",
       "        text-align: right;\n",
       "    }\n",
       "</style>\n",
       "<table border=\"1\" class=\"dataframe\">\n",
       "  <thead>\n",
       "    <tr style=\"text-align: right;\">\n",
       "      <th></th>\n",
       "      <th>properties.taxi_count</th>\n",
       "      <th>day_of_week</th>\n",
       "      <th>month</th>\n",
       "      <th>year</th>\n",
       "      <th>day_of_month</th>\n",
       "    </tr>\n",
       "    <tr>\n",
       "      <th>properties.timestamp</th>\n",
       "      <th></th>\n",
       "      <th></th>\n",
       "      <th></th>\n",
       "      <th></th>\n",
       "      <th></th>\n",
       "    </tr>\n",
       "  </thead>\n",
       "  <tbody>\n",
       "    <tr>\n",
       "      <th>2018-01-01 00:00:00+08:00</th>\n",
       "      <td>3304.5</td>\n",
       "      <td>0.0</td>\n",
       "      <td>1.0</td>\n",
       "      <td>2018.0</td>\n",
       "      <td>1.0</td>\n",
       "    </tr>\n",
       "    <tr>\n",
       "      <th>2018-01-02 00:00:00+08:00</th>\n",
       "      <td>4501.5</td>\n",
       "      <td>1.0</td>\n",
       "      <td>1.0</td>\n",
       "      <td>2018.0</td>\n",
       "      <td>2.0</td>\n",
       "    </tr>\n",
       "    <tr>\n",
       "      <th>2018-01-03 00:00:00+08:00</th>\n",
       "      <td>4950.5</td>\n",
       "      <td>2.0</td>\n",
       "      <td>1.0</td>\n",
       "      <td>2018.0</td>\n",
       "      <td>3.0</td>\n",
       "    </tr>\n",
       "    <tr>\n",
       "      <th>2018-01-04 00:00:00+08:00</th>\n",
       "      <td>4721.5</td>\n",
       "      <td>3.0</td>\n",
       "      <td>1.0</td>\n",
       "      <td>2018.0</td>\n",
       "      <td>4.0</td>\n",
       "    </tr>\n",
       "    <tr>\n",
       "      <th>2018-01-05 00:00:00+08:00</th>\n",
       "      <td>3907.0</td>\n",
       "      <td>4.0</td>\n",
       "      <td>1.0</td>\n",
       "      <td>2018.0</td>\n",
       "      <td>5.0</td>\n",
       "    </tr>\n",
       "    <tr>\n",
       "      <th>...</th>\n",
       "      <td>...</td>\n",
       "      <td>...</td>\n",
       "      <td>...</td>\n",
       "      <td>...</td>\n",
       "      <td>...</td>\n",
       "    </tr>\n",
       "    <tr>\n",
       "      <th>2020-06-26 00:00:00+08:00</th>\n",
       "      <td>3661.0</td>\n",
       "      <td>4.0</td>\n",
       "      <td>6.0</td>\n",
       "      <td>2020.0</td>\n",
       "      <td>26.0</td>\n",
       "    </tr>\n",
       "    <tr>\n",
       "      <th>2020-06-27 00:00:00+08:00</th>\n",
       "      <td>3368.5</td>\n",
       "      <td>5.0</td>\n",
       "      <td>6.0</td>\n",
       "      <td>2020.0</td>\n",
       "      <td>27.0</td>\n",
       "    </tr>\n",
       "    <tr>\n",
       "      <th>2020-06-28 00:00:00+08:00</th>\n",
       "      <td>2754.0</td>\n",
       "      <td>6.0</td>\n",
       "      <td>6.0</td>\n",
       "      <td>2020.0</td>\n",
       "      <td>28.0</td>\n",
       "    </tr>\n",
       "    <tr>\n",
       "      <th>2020-06-29 00:00:00+08:00</th>\n",
       "      <td>4082.0</td>\n",
       "      <td>0.0</td>\n",
       "      <td>6.0</td>\n",
       "      <td>2020.0</td>\n",
       "      <td>29.0</td>\n",
       "    </tr>\n",
       "    <tr>\n",
       "      <th>2020-06-30 00:00:00+08:00</th>\n",
       "      <td>3438.0</td>\n",
       "      <td>1.0</td>\n",
       "      <td>6.0</td>\n",
       "      <td>2020.0</td>\n",
       "      <td>30.0</td>\n",
       "    </tr>\n",
       "  </tbody>\n",
       "</table>\n",
       "<p>912 rows × 5 columns</p>\n",
       "</div>"
      ],
      "text/plain": [
       "                           properties.taxi_count  ...  day_of_month\n",
       "properties.timestamp                              ...              \n",
       "2018-01-01 00:00:00+08:00                 3304.5  ...           1.0\n",
       "2018-01-02 00:00:00+08:00                 4501.5  ...           2.0\n",
       "2018-01-03 00:00:00+08:00                 4950.5  ...           3.0\n",
       "2018-01-04 00:00:00+08:00                 4721.5  ...           4.0\n",
       "2018-01-05 00:00:00+08:00                 3907.0  ...           5.0\n",
       "...                                          ...  ...           ...\n",
       "2020-06-26 00:00:00+08:00                 3661.0  ...          26.0\n",
       "2020-06-27 00:00:00+08:00                 3368.5  ...          27.0\n",
       "2020-06-28 00:00:00+08:00                 2754.0  ...          28.0\n",
       "2020-06-29 00:00:00+08:00                 4082.0  ...          29.0\n",
       "2020-06-30 00:00:00+08:00                 3438.0  ...          30.0\n",
       "\n",
       "[912 rows x 5 columns]"
      ]
     },
     "execution_count": 62,
     "metadata": {
      "tags": []
     },
     "output_type": "execute_result"
    }
   ],
   "source": [
    "#resampling by day\n",
    "df.resample('D').median()"
   ]
  },
  {
   "cell_type": "code",
   "execution_count": null,
   "metadata": {
    "colab": {},
    "colab_type": "code",
    "id": "med0OnJypY0D"
   },
   "outputs": [],
   "source": [
    "df_hour=df.groupby(df.index.hour).mean()"
   ]
  },
  {
   "cell_type": "code",
   "execution_count": null,
   "metadata": {
    "colab": {
     "base_uri": "https://localhost:8080/",
     "height": 555
    },
    "colab_type": "code",
    "id": "RY8Oz6l0px15",
    "outputId": "49fdab28-6bd3-43a8-8aeb-96babd075914"
   },
   "outputs": [
    {
     "data": {
      "text/plain": [
       "<matplotlib.axes._subplots.AxesSubplot at 0x7f24c0885f28>"
      ]
     },
     "execution_count": 65,
     "metadata": {
      "tags": []
     },
     "output_type": "execute_result"
    },
    {
     "data": {
      "image/png": "[encoded data removed]",
      "text/plain": [
       "<Figure size 1152x648 with 1 Axes>"
      ]
     },
     "metadata": {
      "needs_background": "light",
      "tags": []
     },
     "output_type": "display_data"
    }
   ],
   "source": [
    "plt.figure(figsize = (16, 9))\n",
    "sns.lineplot(data = df_hour['properties.taxi_count'])"
   ]
  },
  {
   "cell_type": "code",
   "execution_count": null,
   "metadata": {
    "colab": {},
    "colab_type": "code",
    "id": "q3YeuYYeqBI5"
   },
   "outputs": [],
   "source": [
    " #resample monthly\n",
    " df_month=df.groupby(pd.Grouper(freq='M')).mean()"
   ]
  },
  {
   "cell_type": "code",
   "execution_count": null,
   "metadata": {
    "colab": {
     "base_uri": "https://localhost:8080/",
     "height": 999
    },
    "colab_type": "code",
    "id": "X6gQymDgq-4q",
    "outputId": "5eb93d59-ef86-47a0-fe5e-9020d972650e"
   },
   "outputs": [
    {
     "data": {
      "text/html": [
       "<div>\n",
       "<style scoped>\n",
       "    .dataframe tbody tr th:only-of-type {\n",
       "        vertical-align: middle;\n",
       "    }\n",
       "\n",
       "    .dataframe tbody tr th {\n",
       "        vertical-align: top;\n",
       "    }\n",
       "\n",
       "    .dataframe thead th {\n",
       "        text-align: right;\n",
       "    }\n",
       "</style>\n",
       "<table border=\"1\" class=\"dataframe\">\n",
       "  <thead>\n",
       "    <tr style=\"text-align: right;\">\n",
       "      <th></th>\n",
       "      <th>properties.taxi_count</th>\n",
       "      <th>day_of_week</th>\n",
       "      <th>month</th>\n",
       "      <th>year</th>\n",
       "      <th>day_of_month</th>\n",
       "    </tr>\n",
       "    <tr>\n",
       "      <th>properties.timestamp</th>\n",
       "      <th></th>\n",
       "      <th></th>\n",
       "      <th></th>\n",
       "      <th></th>\n",
       "      <th></th>\n",
       "    </tr>\n",
       "  </thead>\n",
       "  <tbody>\n",
       "    <tr>\n",
       "      <th>2018-01-31 00:00:00+08:00</th>\n",
       "      <td>3966.690122</td>\n",
       "      <td>2.809202</td>\n",
       "      <td>1.0</td>\n",
       "      <td>2018.0</td>\n",
       "      <td>15.933694</td>\n",
       "    </tr>\n",
       "    <tr>\n",
       "      <th>2018-02-28 00:00:00+08:00</th>\n",
       "      <td>3506.289634</td>\n",
       "      <td>3.024390</td>\n",
       "      <td>2.0</td>\n",
       "      <td>2018.0</td>\n",
       "      <td>14.170732</td>\n",
       "    </tr>\n",
       "    <tr>\n",
       "      <th>2018-03-31 00:00:00+08:00</th>\n",
       "      <td>3715.709459</td>\n",
       "      <td>3.089189</td>\n",
       "      <td>3.0</td>\n",
       "      <td>2018.0</td>\n",
       "      <td>16.006757</td>\n",
       "    </tr>\n",
       "    <tr>\n",
       "      <th>2018-04-30 00:00:00+08:00</th>\n",
       "      <td>3762.919220</td>\n",
       "      <td>3.016713</td>\n",
       "      <td>4.0</td>\n",
       "      <td>2018.0</td>\n",
       "      <td>15.536212</td>\n",
       "    </tr>\n",
       "    <tr>\n",
       "      <th>2018-05-31 00:00:00+08:00</th>\n",
       "      <td>4690.679505</td>\n",
       "      <td>2.892710</td>\n",
       "      <td>5.0</td>\n",
       "      <td>2018.0</td>\n",
       "      <td>16.016506</td>\n",
       "    </tr>\n",
       "    <tr>\n",
       "      <th>2018-06-30 00:00:00+08:00</th>\n",
       "      <td>4581.146444</td>\n",
       "      <td>3.100418</td>\n",
       "      <td>6.0</td>\n",
       "      <td>2018.0</td>\n",
       "      <td>15.525802</td>\n",
       "    </tr>\n",
       "    <tr>\n",
       "      <th>2018-07-31 00:00:00+08:00</th>\n",
       "      <td>4377.114958</td>\n",
       "      <td>2.934903</td>\n",
       "      <td>7.0</td>\n",
       "      <td>2018.0</td>\n",
       "      <td>16.288089</td>\n",
       "    </tr>\n",
       "    <tr>\n",
       "      <th>2018-08-31 00:00:00+08:00</th>\n",
       "      <td>4529.553306</td>\n",
       "      <td>2.998650</td>\n",
       "      <td>8.0</td>\n",
       "      <td>2018.0</td>\n",
       "      <td>15.989204</td>\n",
       "    </tr>\n",
       "    <tr>\n",
       "      <th>2018-09-30 00:00:00+08:00</th>\n",
       "      <td>4424.235043</td>\n",
       "      <td>3.170940</td>\n",
       "      <td>9.0</td>\n",
       "      <td>2018.0</td>\n",
       "      <td>15.524217</td>\n",
       "    </tr>\n",
       "    <tr>\n",
       "      <th>2018-10-31 00:00:00+08:00</th>\n",
       "      <td>4201.853727</td>\n",
       "      <td>2.720113</td>\n",
       "      <td>10.0</td>\n",
       "      <td>2018.0</td>\n",
       "      <td>15.662447</td>\n",
       "    </tr>\n",
       "    <tr>\n",
       "      <th>2018-11-30 00:00:00+08:00</th>\n",
       "      <td>4259.660819</td>\n",
       "      <td>3.000000</td>\n",
       "      <td>11.0</td>\n",
       "      <td>2018.0</td>\n",
       "      <td>15.839181</td>\n",
       "    </tr>\n",
       "    <tr>\n",
       "      <th>2018-12-31 00:00:00+08:00</th>\n",
       "      <td>4167.598066</td>\n",
       "      <td>3.001381</td>\n",
       "      <td>12.0</td>\n",
       "      <td>2018.0</td>\n",
       "      <td>15.959945</td>\n",
       "    </tr>\n",
       "    <tr>\n",
       "      <th>2019-01-31 00:00:00+08:00</th>\n",
       "      <td>4242.719677</td>\n",
       "      <td>2.900270</td>\n",
       "      <td>1.0</td>\n",
       "      <td>2019.0</td>\n",
       "      <td>15.966307</td>\n",
       "    </tr>\n",
       "    <tr>\n",
       "      <th>2019-02-28 00:00:00+08:00</th>\n",
       "      <td>3822.461654</td>\n",
       "      <td>3.004511</td>\n",
       "      <td>2.0</td>\n",
       "      <td>2019.0</td>\n",
       "      <td>14.530827</td>\n",
       "    </tr>\n",
       "    <tr>\n",
       "      <th>2019-03-31 00:00:00+08:00</th>\n",
       "      <td>4141.338295</td>\n",
       "      <td>3.193505</td>\n",
       "      <td>3.0</td>\n",
       "      <td>2019.0</td>\n",
       "      <td>15.955345</td>\n",
       "    </tr>\n",
       "    <tr>\n",
       "      <th>2019-04-30 00:00:00+08:00</th>\n",
       "      <td>3951.246809</td>\n",
       "      <td>2.868085</td>\n",
       "      <td>4.0</td>\n",
       "      <td>2019.0</td>\n",
       "      <td>15.703546</td>\n",
       "    </tr>\n",
       "    <tr>\n",
       "      <th>2019-05-31 00:00:00+08:00</th>\n",
       "      <td>4130.720648</td>\n",
       "      <td>2.995951</td>\n",
       "      <td>5.0</td>\n",
       "      <td>2019.0</td>\n",
       "      <td>15.958165</td>\n",
       "    </tr>\n",
       "    <tr>\n",
       "      <th>2019-06-30 00:00:00+08:00</th>\n",
       "      <td>3665.915966</td>\n",
       "      <td>3.149860</td>\n",
       "      <td>6.0</td>\n",
       "      <td>2019.0</td>\n",
       "      <td>15.404762</td>\n",
       "    </tr>\n",
       "    <tr>\n",
       "      <th>2019-07-31 00:00:00+08:00</th>\n",
       "      <td>3901.774324</td>\n",
       "      <td>2.790541</td>\n",
       "      <td>7.0</td>\n",
       "      <td>2019.0</td>\n",
       "      <td>15.974324</td>\n",
       "    </tr>\n",
       "    <tr>\n",
       "      <th>2019-08-31 00:00:00+08:00</th>\n",
       "      <td>3253.752089</td>\n",
       "      <td>3.055710</td>\n",
       "      <td>8.0</td>\n",
       "      <td>2019.0</td>\n",
       "      <td>15.738162</td>\n",
       "    </tr>\n",
       "    <tr>\n",
       "      <th>2019-09-30 00:00:00+08:00</th>\n",
       "      <td>1826.475983</td>\n",
       "      <td>2.985444</td>\n",
       "      <td>9.0</td>\n",
       "      <td>2019.0</td>\n",
       "      <td>15.551674</td>\n",
       "    </tr>\n",
       "    <tr>\n",
       "      <th>2019-10-31 00:00:00+08:00</th>\n",
       "      <td>3054.167794</td>\n",
       "      <td>2.897158</td>\n",
       "      <td>10.0</td>\n",
       "      <td>2019.0</td>\n",
       "      <td>16.016238</td>\n",
       "    </tr>\n",
       "    <tr>\n",
       "      <th>2019-11-30 00:00:00+08:00</th>\n",
       "      <td>2594.954984</td>\n",
       "      <td>3.057878</td>\n",
       "      <td>11.0</td>\n",
       "      <td>2019.0</td>\n",
       "      <td>7.845659</td>\n",
       "    </tr>\n",
       "    <tr>\n",
       "      <th>2019-12-31 00:00:00+08:00</th>\n",
       "      <td>NaN</td>\n",
       "      <td>NaN</td>\n",
       "      <td>NaN</td>\n",
       "      <td>NaN</td>\n",
       "      <td>NaN</td>\n",
       "    </tr>\n",
       "    <tr>\n",
       "      <th>2020-01-31 00:00:00+08:00</th>\n",
       "      <td>3416.452575</td>\n",
       "      <td>3.018970</td>\n",
       "      <td>1.0</td>\n",
       "      <td>2020.0</td>\n",
       "      <td>15.990515</td>\n",
       "    </tr>\n",
       "    <tr>\n",
       "      <th>2020-02-29 00:00:00+08:00</th>\n",
       "      <td>4166.330435</td>\n",
       "      <td>3.050725</td>\n",
       "      <td>2.0</td>\n",
       "      <td>2020.0</td>\n",
       "      <td>15.120290</td>\n",
       "    </tr>\n",
       "    <tr>\n",
       "      <th>2020-03-31 00:00:00+08:00</th>\n",
       "      <td>4163.558266</td>\n",
       "      <td>2.941734</td>\n",
       "      <td>3.0</td>\n",
       "      <td>2020.0</td>\n",
       "      <td>16.086721</td>\n",
       "    </tr>\n",
       "    <tr>\n",
       "      <th>2020-04-30 00:00:00+08:00</th>\n",
       "      <td>3905.036212</td>\n",
       "      <td>2.967967</td>\n",
       "      <td>4.0</td>\n",
       "      <td>2020.0</td>\n",
       "      <td>15.490251</td>\n",
       "    </tr>\n",
       "    <tr>\n",
       "      <th>2020-05-31 00:00:00+08:00</th>\n",
       "      <td>3803.032389</td>\n",
       "      <td>3.192982</td>\n",
       "      <td>5.0</td>\n",
       "      <td>2020.0</td>\n",
       "      <td>16.025641</td>\n",
       "    </tr>\n",
       "    <tr>\n",
       "      <th>2020-06-30 00:00:00+08:00</th>\n",
       "      <td>4000.625000</td>\n",
       "      <td>2.826471</td>\n",
       "      <td>6.0</td>\n",
       "      <td>2020.0</td>\n",
       "      <td>14.913235</td>\n",
       "    </tr>\n",
       "  </tbody>\n",
       "</table>\n",
       "</div>"
      ],
      "text/plain": [
       "                           properties.taxi_count  ...  day_of_month\n",
       "properties.timestamp                              ...              \n",
       "2018-01-31 00:00:00+08:00            3966.690122  ...     15.933694\n",
       "2018-02-28 00:00:00+08:00            3506.289634  ...     14.170732\n",
       "2018-03-31 00:00:00+08:00            3715.709459  ...     16.006757\n",
       "2018-04-30 00:00:00+08:00            3762.919220  ...     15.536212\n",
       "2018-05-31 00:00:00+08:00            4690.679505  ...     16.016506\n",
       "2018-06-30 00:00:00+08:00            4581.146444  ...     15.525802\n",
       "2018-07-31 00:00:00+08:00            4377.114958  ...     16.288089\n",
       "2018-08-31 00:00:00+08:00            4529.553306  ...     15.989204\n",
       "2018-09-30 00:00:00+08:00            4424.235043  ...     15.524217\n",
       "2018-10-31 00:00:00+08:00            4201.853727  ...     15.662447\n",
       "2018-11-30 00:00:00+08:00            4259.660819  ...     15.839181\n",
       "2018-12-31 00:00:00+08:00            4167.598066  ...     15.959945\n",
       "2019-01-31 00:00:00+08:00            4242.719677  ...     15.966307\n",
       "2019-02-28 00:00:00+08:00            3822.461654  ...     14.530827\n",
       "2019-03-31 00:00:00+08:00            4141.338295  ...     15.955345\n",
       "2019-04-30 00:00:00+08:00            3951.246809  ...     15.703546\n",
       "2019-05-31 00:00:00+08:00            4130.720648  ...     15.958165\n",
       "2019-06-30 00:00:00+08:00            3665.915966  ...     15.404762\n",
       "2019-07-31 00:00:00+08:00            3901.774324  ...     15.974324\n",
       "2019-08-31 00:00:00+08:00            3253.752089  ...     15.738162\n",
       "2019-09-30 00:00:00+08:00            1826.475983  ...     15.551674\n",
       "2019-10-31 00:00:00+08:00            3054.167794  ...     16.016238\n",
       "2019-11-30 00:00:00+08:00            2594.954984  ...      7.845659\n",
       "2019-12-31 00:00:00+08:00                    NaN  ...           NaN\n",
       "2020-01-31 00:00:00+08:00            3416.452575  ...     15.990515\n",
       "2020-02-29 00:00:00+08:00            4166.330435  ...     15.120290\n",
       "2020-03-31 00:00:00+08:00            4163.558266  ...     16.086721\n",
       "2020-04-30 00:00:00+08:00            3905.036212  ...     15.490251\n",
       "2020-05-31 00:00:00+08:00            3803.032389  ...     16.025641\n",
       "2020-06-30 00:00:00+08:00            4000.625000  ...     14.913235\n",
       "\n",
       "[30 rows x 5 columns]"
      ]
     },
     "execution_count": 69,
     "metadata": {
      "tags": []
     },
     "output_type": "execute_result"
    }
   ],
   "source": [
    "df_month"
   ]
  },
  {
   "cell_type": "code",
   "execution_count": null,
   "metadata": {
    "colab": {
     "base_uri": "https://localhost:8080/",
     "height": 555
    },
    "colab_type": "code",
    "id": "aBUbgd3lnc-U",
    "outputId": "24c9475e-dd0f-4112-cf3b-3c6483ba1b6a"
   },
   "outputs": [
    {
     "data": {
      "text/plain": [
       "<matplotlib.axes._subplots.AxesSubplot at 0x7f24bfc7b940>"
      ]
     },
     "execution_count": 70,
     "metadata": {
      "tags": []
     },
     "output_type": "execute_result"
    },
    {
     "data": {
      "image/png": "[encoded data removed]",
      "text/plain": [
       "<Figure size 1152x648 with 1 Axes>"
      ]
     },
     "metadata": {
      "needs_background": "light",
      "tags": []
     },
     "output_type": "display_data"
    }
   ],
   "source": [
    "plt.figure(figsize = (16, 9))\n",
    "sns.lineplot(data = df_month['properties.taxi_count'])"
   ]
  },
  {
   "cell_type": "code",
   "execution_count": null,
   "metadata": {
    "colab": {},
    "colab_type": "code",
    "id": "6XULHzmmrVsD"
   },
   "outputs": [],
   "source": [
    " df_month_resample=df.resample('M')[\"properties.taxi_count\"].mean()"
   ]
  },
  {
   "cell_type": "code",
   "execution_count": null,
   "metadata": {
    "colab": {
     "base_uri": "https://localhost:8080/",
     "height": 555
    },
    "colab_type": "code",
    "id": "0-9aHO2YrdqW",
    "outputId": "efe8e66b-8aee-485a-d5b7-5d946da9306d"
   },
   "outputs": [
    {
     "data": {
      "text/plain": [
       "<matplotlib.axes._subplots.AxesSubplot at 0x7f24bfc5f3c8>"
      ]
     },
     "execution_count": 72,
     "metadata": {
      "tags": []
     },
     "output_type": "execute_result"
    },
    {
     "data": {
      "image/png": "[encoded data removed]",
      "text/plain": [
       "<Figure size 1152x648 with 1 Axes>"
      ]
     },
     "metadata": {
      "needs_background": "light",
      "tags": []
     },
     "output_type": "display_data"
    }
   ],
   "source": [
    "plt.figure(figsize = (16, 9))\n",
    "sns.lineplot(data = df_month_resample)"
   ]
  },
  {
   "cell_type": "code",
   "execution_count": null,
   "metadata": {
    "colab": {
     "base_uri": "https://localhost:8080/",
     "height": 555
    },
    "colab_type": "code",
    "id": "wSQNgzwFs4s6",
    "outputId": "c6578d24-d62e-4c5c-db77-77f5bf9af0b5"
   },
   "outputs": [
    {
     "data": {
      "text/plain": [
       "<matplotlib.axes._subplots.AxesSubplot at 0x7f24bfbd6940>"
      ]
     },
     "execution_count": 73,
     "metadata": {
      "tags": []
     },
     "output_type": "execute_result"
    },
    {
     "data": {
      "image/png": "[encoded data removed]",
      "text/plain": [
       "<Figure size 1152x648 with 1 Axes>"
      ]
     },
     "metadata": {
      "needs_background": "light",
      "tags": []
     },
     "output_type": "display_data"
    }
   ],
   "source": [
    "#resample by week\n",
    "df_week=df.groupby(pd.Grouper(freq='W')).mean()\n",
    "plt.figure(figsize = (16, 9))\n",
    "sns.lineplot(data = df_week['properties.taxi_count'])"
   ]
  },
  {
   "cell_type": "code",
   "execution_count": null,
   "metadata": {
    "colab": {
     "base_uri": "https://localhost:8080/",
     "height": 555
    },
    "colab_type": "code",
    "id": "V9dOify3tKZT",
    "outputId": "9c073dcc-1b4f-4b2c-e15b-a5b54851a357"
   },
   "outputs": [
    {
     "data": {
      "text/plain": [
       "<matplotlib.axes._subplots.AxesSubplot at 0x7f24bfb1b6a0>"
      ]
     },
     "execution_count": 74,
     "metadata": {
      "tags": []
     },
     "output_type": "execute_result"
    },
    {
     "data": {
      "image/png": "[encoded data removed]",
      "text/plain": [
       "<Figure size 1152x648 with 1 Axes>"
      ]
     },
     "metadata": {
      "needs_background": "light",
      "tags": []
     },
     "output_type": "display_data"
    }
   ],
   "source": [
    "df_week_resample=df.resample('W')[\"properties.taxi_count\"].mean()\n",
    "plt.figure(figsize = (16, 9))\n",
    "sns.lineplot(data = df_week_resample)"
   ]
  },
  {
   "cell_type": "code",
   "execution_count": null,
   "metadata": {
    "colab": {},
    "colab_type": "code",
    "id": "p7VB-xhKxigO"
   },
   "outputs": [],
   "source": [
    "# export DataFrame as csv\n",
    "df.to_csv(r'Output_Clean_Features_File.csv')"
   ]
  },
  {
   "cell_type": "code",
   "execution_count": null,
   "metadata": {
    "colab": {
     "base_uri": "https://localhost:8080/",
     "height": 446
    },
    "colab_type": "code",
    "id": "vjXaZgpEevTu",
    "outputId": "c0859c06-4032-4020-edcb-5ede701eb832"
   },
   "outputs": [
    {
     "data": {
      "text/html": [
       "<div>\n",
       "<style scoped>\n",
       "    .dataframe tbody tr th:only-of-type {\n",
       "        vertical-align: middle;\n",
       "    }\n",
       "\n",
       "    .dataframe tbody tr th {\n",
       "        vertical-align: top;\n",
       "    }\n",
       "\n",
       "    .dataframe thead th {\n",
       "        text-align: right;\n",
       "    }\n",
       "</style>\n",
       "<table border=\"1\" class=\"dataframe\">\n",
       "  <thead>\n",
       "    <tr style=\"text-align: right;\">\n",
       "      <th></th>\n",
       "      <th>properties.taxi_count</th>\n",
       "      <th>day_of_week</th>\n",
       "      <th>month</th>\n",
       "      <th>year</th>\n",
       "      <th>day_of_month</th>\n",
       "      <th>weekday_weekend</th>\n",
       "    </tr>\n",
       "    <tr>\n",
       "      <th>properties.timestamp</th>\n",
       "      <th></th>\n",
       "      <th></th>\n",
       "      <th></th>\n",
       "      <th></th>\n",
       "      <th></th>\n",
       "      <th></th>\n",
       "    </tr>\n",
       "  </thead>\n",
       "  <tbody>\n",
       "    <tr>\n",
       "      <th>2018-01-01 00:00:44+08:00</th>\n",
       "      <td>3305</td>\n",
       "      <td>0</td>\n",
       "      <td>1</td>\n",
       "      <td>2018</td>\n",
       "      <td>1</td>\n",
       "      <td>weekday</td>\n",
       "    </tr>\n",
       "    <tr>\n",
       "      <th>2018-01-01 01:00:47+08:00</th>\n",
       "      <td>2387</td>\n",
       "      <td>0</td>\n",
       "      <td>1</td>\n",
       "      <td>2018</td>\n",
       "      <td>1</td>\n",
       "      <td>weekday</td>\n",
       "    </tr>\n",
       "    <tr>\n",
       "      <th>2018-01-01 02:00:50+08:00</th>\n",
       "      <td>2913</td>\n",
       "      <td>0</td>\n",
       "      <td>1</td>\n",
       "      <td>2018</td>\n",
       "      <td>1</td>\n",
       "      <td>weekday</td>\n",
       "    </tr>\n",
       "    <tr>\n",
       "      <th>2018-01-01 03:00:53+08:00</th>\n",
       "      <td>2909</td>\n",
       "      <td>0</td>\n",
       "      <td>1</td>\n",
       "      <td>2018</td>\n",
       "      <td>1</td>\n",
       "      <td>weekday</td>\n",
       "    </tr>\n",
       "    <tr>\n",
       "      <th>2018-01-01 04:00:56+08:00</th>\n",
       "      <td>3045</td>\n",
       "      <td>0</td>\n",
       "      <td>1</td>\n",
       "      <td>2018</td>\n",
       "      <td>1</td>\n",
       "      <td>weekday</td>\n",
       "    </tr>\n",
       "    <tr>\n",
       "      <th>...</th>\n",
       "      <td>...</td>\n",
       "      <td>...</td>\n",
       "      <td>...</td>\n",
       "      <td>...</td>\n",
       "      <td>...</td>\n",
       "      <td>...</td>\n",
       "    </tr>\n",
       "    <tr>\n",
       "      <th>2020-06-29 20:00:02+08:00</th>\n",
       "      <td>4790</td>\n",
       "      <td>0</td>\n",
       "      <td>6</td>\n",
       "      <td>2020</td>\n",
       "      <td>29</td>\n",
       "      <td>weekday</td>\n",
       "    </tr>\n",
       "    <tr>\n",
       "      <th>2020-06-29 21:00:35+08:00</th>\n",
       "      <td>4716</td>\n",
       "      <td>0</td>\n",
       "      <td>6</td>\n",
       "      <td>2020</td>\n",
       "      <td>29</td>\n",
       "      <td>weekday</td>\n",
       "    </tr>\n",
       "    <tr>\n",
       "      <th>2020-06-29 22:00:38+08:00</th>\n",
       "      <td>4301</td>\n",
       "      <td>0</td>\n",
       "      <td>6</td>\n",
       "      <td>2020</td>\n",
       "      <td>29</td>\n",
       "      <td>weekday</td>\n",
       "    </tr>\n",
       "    <tr>\n",
       "      <th>2020-06-29 23:00:41+08:00</th>\n",
       "      <td>3600</td>\n",
       "      <td>0</td>\n",
       "      <td>6</td>\n",
       "      <td>2020</td>\n",
       "      <td>29</td>\n",
       "      <td>weekday</td>\n",
       "    </tr>\n",
       "    <tr>\n",
       "      <th>2020-06-30 00:00:14+08:00</th>\n",
       "      <td>3438</td>\n",
       "      <td>1</td>\n",
       "      <td>6</td>\n",
       "      <td>2020</td>\n",
       "      <td>30</td>\n",
       "      <td>weekday</td>\n",
       "    </tr>\n",
       "  </tbody>\n",
       "</table>\n",
       "<p>20387 rows × 6 columns</p>\n",
       "</div>"
      ],
      "text/plain": [
       "                           properties.taxi_count  ...  weekday_weekend\n",
       "properties.timestamp                              ...                 \n",
       "2018-01-01 00:00:44+08:00                   3305  ...          weekday\n",
       "2018-01-01 01:00:47+08:00                   2387  ...          weekday\n",
       "2018-01-01 02:00:50+08:00                   2913  ...          weekday\n",
       "2018-01-01 03:00:53+08:00                   2909  ...          weekday\n",
       "2018-01-01 04:00:56+08:00                   3045  ...          weekday\n",
       "...                                          ...  ...              ...\n",
       "2020-06-29 20:00:02+08:00                   4790  ...          weekday\n",
       "2020-06-29 21:00:35+08:00                   4716  ...          weekday\n",
       "2020-06-29 22:00:38+08:00                   4301  ...          weekday\n",
       "2020-06-29 23:00:41+08:00                   3600  ...          weekday\n",
       "2020-06-30 00:00:14+08:00                   3438  ...          weekday\n",
       "\n",
       "[20387 rows x 6 columns]"
      ]
     },
     "execution_count": 77,
     "metadata": {
      "tags": []
     },
     "output_type": "execute_result"
    }
   ],
   "source": [
    "df"
   ]
  },
  {
   "cell_type": "code",
   "execution_count": null,
   "metadata": {
    "colab": {
     "base_uri": "https://localhost:8080/",
     "height": 17
    },
    "colab_type": "code",
    "id": "grHM1u9UaQBz",
    "outputId": "3790e260-44be-40dc-f8d4-629141304f09"
   },
   "outputs": [
    {
     "data": {
      "application/javascript": [
       "\n",
       "    async function download(id, filename, size) {\n",
       "      if (!google.colab.kernel.accessAllowed) {\n",
       "        return;\n",
       "      }\n",
       "      const div = document.createElement('div');\n",
       "      const label = document.createElement('label');\n",
       "      label.textContent = `Downloading \"${filename}\": `;\n",
       "      div.appendChild(label);\n",
       "      const progress = document.createElement('progress');\n",
       "      progress.max = size;\n",
       "      div.appendChild(progress);\n",
       "      document.body.appendChild(div);\n",
       "\n",
       "      const buffers = [];\n",
       "      let downloaded = 0;\n",
       "\n",
       "      const channel = await google.colab.kernel.comms.open(id);\n",
       "      // Send a message to notify the kernel that we're ready.\n",
       "      channel.send({})\n",
       "\n",
       "      for await (const message of channel.messages) {\n",
       "        // Send a message to notify the kernel that we're ready.\n",
       "        channel.send({})\n",
       "        if (message.buffers) {\n",
       "          for (const buffer of message.buffers) {\n",
       "            buffers.push(buffer);\n",
       "            downloaded += buffer.byteLength;\n",
       "            progress.value = downloaded;\n",
       "          }\n",
       "        }\n",
       "      }\n",
       "      const blob = new Blob(buffers, {type: 'application/binary'});\n",
       "      const a = document.createElement('a');\n",
       "      a.href = window.URL.createObjectURL(blob);\n",
       "      a.download = filename;\n",
       "      div.appendChild(a);\n",
       "      a.click();\n",
       "      div.remove();\n",
       "    }\n",
       "  "
      ],
      "text/plain": [
       "<IPython.core.display.Javascript object>"
      ]
     },
     "metadata": {
      "tags": []
     },
     "output_type": "display_data"
    },
    {
     "data": {
      "application/javascript": [
       "download(\"download_da627136-3ae6-4995-8f03-6e23c53197ff\", \"Output_Clean_Features_File.csv\", 1036640)"
      ],
      "text/plain": [
       "<IPython.core.display.Javascript object>"
      ]
     },
     "metadata": {
      "tags": []
     },
     "output_type": "display_data"
    }
   ],
   "source": [
    "#output the file to local\n",
    "from google.colab import files\n",
    "files.download('Output_Clean_Features_File.csv')"
   ]
  }
 ],
 "metadata": {
  "colab": {
   "name": "Data Analysis",
   "provenance": []
  },
  "kernelspec": {
   "display_name": "Python 3",
   "language": "python",
   "name": "python3"
  },
  "language_info": {
   "codemirror_mode": {
    "name": "ipython",
    "version": 3
   },
   "file_extension": ".py",
   "mimetype": "text/x-python",
   "name": "python",
   "nbconvert_exporter": "python",
   "pygments_lexer": "ipython3",
   "version": "3.7.3"
  }
 },
 "nbformat": 4,
 "nbformat_minor": 1
}
